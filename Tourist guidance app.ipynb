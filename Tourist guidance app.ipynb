{
 "cells": [
  {
   "cell_type": "markdown",
   "metadata": {},
   "source": [
    "<h2> Tourists Guidance App <h2>"
   ]
  },
  {
   "cell_type": "markdown",
   "metadata": {},
   "source": [
    "<h4> Business Problem <h4>"
   ]
  },
  {
   "cell_type": "markdown",
   "metadata": {},
   "source": [
    "Recently, the Tourism Agency of Uzbekistan has requested an app for tourists. The app is similar to Foursquare, but includes data and information about uzbek cities collected by the tourism agency. \n",
    "\n",
    "The agency director also requested to demonstrate and magnify each city's sightseeing and cultural heritage. So, the ancient cities needs to be compared in terms of what it offers, what it is famous for, communication and commute channels, time and means and how comfortable visiting the city is.\n",
    "\n",
    "However, there is a huge problem of data sufficiency and availability. By the time, the Tourism agency collects and updates its database and prepares relevant information, the team is willing to start working on the algorithm for cities, for which there is enough location and historic sightseeings data."
   ]
  },
  {
   "cell_type": "markdown",
   "metadata": {},
   "source": [
    "Data for Finding a Solution"
   ]
  },
  {
   "cell_type": "markdown",
   "metadata": {},
   "source": [
    "1) The data about tourists flow will be obtained from various sources, but mainly:\n",
    "- https://data.worldbank.org/indicator/ST.INT.ARVL\n",
    "- https://www.e-unwto.org/action/doSearch?ConceptID=2326&target=topic\n",
    "This data would give us an understanding of the tourists visiting Uzbekistan.\n",
    "\n",
    "2) As mentioned above, the Foursquare map is unfortunately not rich with location data for Uzbekistan. The Tourism agency, assigned to boost tourists inflow, is intended to update the database. From this data, we will try to build an app, which would guide and help tourists visit the most interesting places in the historic cities."
   ]
  }
 ],
 "metadata": {
  "kernelspec": {
   "display_name": "Python 3",
   "language": "python",
   "name": "python3"
  },
  "language_info": {
   "codemirror_mode": {
    "name": "ipython",
    "version": 3
   },
   "file_extension": ".py",
   "mimetype": "text/x-python",
   "name": "python",
   "nbconvert_exporter": "python",
   "pygments_lexer": "ipython3",
   "version": "3.6.5"
  }
 },
 "nbformat": 4,
 "nbformat_minor": 2
}
